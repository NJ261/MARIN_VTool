{
 "cells": [
  {
   "cell_type": "code",
   "execution_count": 1,
   "metadata": {
    "pycharm": {
     "is_executing": true
    }
   },
   "outputs": [],
   "source": [
    "import pandas as pd\n",
    "import numpy as np\n",
    "\n",
    "import sys\n",
    "sys.path.insert(0, '../')"
   ]
  },
  {
   "cell_type": "code",
   "execution_count": 2,
   "metadata": {
    "pycharm": {
     "name": "#%%\n"
    }
   },
   "outputs": [],
   "source": [
    "from Algorithms import FloydWarshall\n",
    "from DataProcessing import CSVtoMatrix"
   ]
  },
  {
   "cell_type": "markdown",
   "metadata": {},
   "source": [
    "## Converting distance matrix in matrix form from CSV"
   ]
  },
  {
   "cell_type": "code",
   "execution_count": 3,
   "metadata": {},
   "outputs": [],
   "source": [
    "csvToMatrix = CSVtoMatrix.CSVtoMatrix('../../../distance_temp.csv')\n",
    "\n",
    "inputData = csvToMatrix.inputData()\n",
    "processedData = csvToMatrix.matrixConversion(inputData)"
   ]
  },
  {
   "cell_type": "markdown",
   "metadata": {},
   "source": [
    "## Printing matrix below to see results\n",
    "First 10 rows here"
   ]
  },
  {
   "cell_type": "code",
   "execution_count": 4,
   "metadata": {},
   "outputs": [
    {
     "data": {
      "text/html": [
       "<div>\n",
       "<style scoped>\n",
       "    .dataframe tbody tr th:only-of-type {\n",
       "        vertical-align: middle;\n",
       "    }\n",
       "\n",
       "    .dataframe tbody tr th {\n",
       "        vertical-align: top;\n",
       "    }\n",
       "\n",
       "    .dataframe thead th {\n",
       "        text-align: right;\n",
       "    }\n",
       "</style>\n",
       "<table border=\"1\" class=\"dataframe\">\n",
       "  <thead>\n",
       "    <tr style=\"text-align: right;\">\n",
       "      <th></th>\n",
       "      <th>0</th>\n",
       "      <th>1</th>\n",
       "      <th>2</th>\n",
       "      <th>3</th>\n",
       "      <th>4</th>\n",
       "      <th>5</th>\n",
       "      <th>6</th>\n",
       "      <th>7</th>\n",
       "      <th>8</th>\n",
       "      <th>9</th>\n",
       "      <th>...</th>\n",
       "      <th>15</th>\n",
       "      <th>16</th>\n",
       "      <th>17</th>\n",
       "      <th>18</th>\n",
       "      <th>19</th>\n",
       "      <th>20</th>\n",
       "      <th>21</th>\n",
       "      <th>22</th>\n",
       "      <th>23</th>\n",
       "      <th>24</th>\n",
       "    </tr>\n",
       "  </thead>\n",
       "  <tbody>\n",
       "    <tr>\n",
       "      <th>0</th>\n",
       "      <td>0.00</td>\n",
       "      <td>44.64</td>\n",
       "      <td>44.75</td>\n",
       "      <td>45.05</td>\n",
       "      <td>45.56</td>\n",
       "      <td>46.26</td>\n",
       "      <td>33.48</td>\n",
       "      <td>33.62</td>\n",
       "      <td>34.03</td>\n",
       "      <td>34.70</td>\n",
       "      <td>...</td>\n",
       "      <td>25.44</td>\n",
       "      <td>11.16</td>\n",
       "      <td>11.57</td>\n",
       "      <td>12.73</td>\n",
       "      <td>14.45</td>\n",
       "      <td>16.56</td>\n",
       "      <td>3.07</td>\n",
       "      <td>6.14</td>\n",
       "      <td>9.21</td>\n",
       "      <td>12.27</td>\n",
       "    </tr>\n",
       "    <tr>\n",
       "      <th>1</th>\n",
       "      <td>44.75</td>\n",
       "      <td>0.00</td>\n",
       "      <td>44.64</td>\n",
       "      <td>44.75</td>\n",
       "      <td>45.05</td>\n",
       "      <td>45.56</td>\n",
       "      <td>33.62</td>\n",
       "      <td>33.48</td>\n",
       "      <td>33.62</td>\n",
       "      <td>34.03</td>\n",
       "      <td>...</td>\n",
       "      <td>24.12</td>\n",
       "      <td>11.57</td>\n",
       "      <td>11.16</td>\n",
       "      <td>11.57</td>\n",
       "      <td>12.73</td>\n",
       "      <td>14.45</td>\n",
       "      <td>3.07</td>\n",
       "      <td>3.07</td>\n",
       "      <td>6.14</td>\n",
       "      <td>9.21</td>\n",
       "    </tr>\n",
       "    <tr>\n",
       "      <th>2</th>\n",
       "      <td>45.05</td>\n",
       "      <td>44.75</td>\n",
       "      <td>0.00</td>\n",
       "      <td>44.64</td>\n",
       "      <td>44.75</td>\n",
       "      <td>45.05</td>\n",
       "      <td>34.03</td>\n",
       "      <td>33.62</td>\n",
       "      <td>33.48</td>\n",
       "      <td>33.62</td>\n",
       "      <td>...</td>\n",
       "      <td>23.14</td>\n",
       "      <td>12.73</td>\n",
       "      <td>11.57</td>\n",
       "      <td>11.16</td>\n",
       "      <td>11.57</td>\n",
       "      <td>12.73</td>\n",
       "      <td>6.14</td>\n",
       "      <td>3.07</td>\n",
       "      <td>3.07</td>\n",
       "      <td>6.14</td>\n",
       "    </tr>\n",
       "    <tr>\n",
       "      <th>3</th>\n",
       "      <td>45.56</td>\n",
       "      <td>45.05</td>\n",
       "      <td>44.75</td>\n",
       "      <td>0.00</td>\n",
       "      <td>44.64</td>\n",
       "      <td>44.75</td>\n",
       "      <td>34.70</td>\n",
       "      <td>34.03</td>\n",
       "      <td>33.62</td>\n",
       "      <td>33.48</td>\n",
       "      <td>...</td>\n",
       "      <td>22.53</td>\n",
       "      <td>14.45</td>\n",
       "      <td>12.73</td>\n",
       "      <td>11.57</td>\n",
       "      <td>11.16</td>\n",
       "      <td>11.57</td>\n",
       "      <td>9.21</td>\n",
       "      <td>6.14</td>\n",
       "      <td>3.07</td>\n",
       "      <td>3.07</td>\n",
       "    </tr>\n",
       "    <tr>\n",
       "      <th>4</th>\n",
       "      <td>46.26</td>\n",
       "      <td>45.56</td>\n",
       "      <td>45.05</td>\n",
       "      <td>44.75</td>\n",
       "      <td>0.00</td>\n",
       "      <td>44.64</td>\n",
       "      <td>35.62</td>\n",
       "      <td>34.70</td>\n",
       "      <td>34.03</td>\n",
       "      <td>33.62</td>\n",
       "      <td>...</td>\n",
       "      <td>22.32</td>\n",
       "      <td>16.56</td>\n",
       "      <td>14.45</td>\n",
       "      <td>12.73</td>\n",
       "      <td>11.57</td>\n",
       "      <td>11.16</td>\n",
       "      <td>12.27</td>\n",
       "      <td>9.21</td>\n",
       "      <td>6.14</td>\n",
       "      <td>3.07</td>\n",
       "    </tr>\n",
       "    <tr>\n",
       "      <th>5</th>\n",
       "      <td>22.32</td>\n",
       "      <td>22.52</td>\n",
       "      <td>23.12</td>\n",
       "      <td>24.08</td>\n",
       "      <td>25.37</td>\n",
       "      <td>0.00</td>\n",
       "      <td>11.16</td>\n",
       "      <td>11.56</td>\n",
       "      <td>12.69</td>\n",
       "      <td>14.38</td>\n",
       "      <td>...</td>\n",
       "      <td>11.16</td>\n",
       "      <td>11.57</td>\n",
       "      <td>12.71</td>\n",
       "      <td>14.41</td>\n",
       "      <td>16.51</td>\n",
       "      <td>22.32</td>\n",
       "      <td>22.53</td>\n",
       "      <td>23.14</td>\n",
       "      <td>24.12</td>\n",
       "      <td>25.44</td>\n",
       "    </tr>\n",
       "    <tr>\n",
       "      <th>6</th>\n",
       "      <td>22.52</td>\n",
       "      <td>22.32</td>\n",
       "      <td>22.52</td>\n",
       "      <td>23.12</td>\n",
       "      <td>24.08</td>\n",
       "      <td>11.56</td>\n",
       "      <td>0.00</td>\n",
       "      <td>11.16</td>\n",
       "      <td>11.56</td>\n",
       "      <td>12.69</td>\n",
       "      <td>...</td>\n",
       "      <td>11.57</td>\n",
       "      <td>11.16</td>\n",
       "      <td>11.57</td>\n",
       "      <td>12.71</td>\n",
       "      <td>14.41</td>\n",
       "      <td>22.53</td>\n",
       "      <td>22.32</td>\n",
       "      <td>22.53</td>\n",
       "      <td>23.14</td>\n",
       "      <td>24.12</td>\n",
       "    </tr>\n",
       "    <tr>\n",
       "      <th>7</th>\n",
       "      <td>23.12</td>\n",
       "      <td>22.52</td>\n",
       "      <td>22.32</td>\n",
       "      <td>22.52</td>\n",
       "      <td>23.12</td>\n",
       "      <td>12.69</td>\n",
       "      <td>11.56</td>\n",
       "      <td>0.00</td>\n",
       "      <td>11.16</td>\n",
       "      <td>11.56</td>\n",
       "      <td>...</td>\n",
       "      <td>12.71</td>\n",
       "      <td>11.57</td>\n",
       "      <td>11.16</td>\n",
       "      <td>11.57</td>\n",
       "      <td>12.71</td>\n",
       "      <td>23.14</td>\n",
       "      <td>22.53</td>\n",
       "      <td>22.32</td>\n",
       "      <td>22.53</td>\n",
       "      <td>23.14</td>\n",
       "    </tr>\n",
       "    <tr>\n",
       "      <th>8</th>\n",
       "      <td>24.08</td>\n",
       "      <td>23.12</td>\n",
       "      <td>22.52</td>\n",
       "      <td>22.32</td>\n",
       "      <td>22.52</td>\n",
       "      <td>14.38</td>\n",
       "      <td>12.69</td>\n",
       "      <td>11.56</td>\n",
       "      <td>0.00</td>\n",
       "      <td>11.16</td>\n",
       "      <td>...</td>\n",
       "      <td>14.41</td>\n",
       "      <td>12.71</td>\n",
       "      <td>11.57</td>\n",
       "      <td>11.16</td>\n",
       "      <td>11.57</td>\n",
       "      <td>24.12</td>\n",
       "      <td>23.14</td>\n",
       "      <td>22.53</td>\n",
       "      <td>22.32</td>\n",
       "      <td>22.53</td>\n",
       "    </tr>\n",
       "    <tr>\n",
       "      <th>9</th>\n",
       "      <td>25.37</td>\n",
       "      <td>24.08</td>\n",
       "      <td>23.12</td>\n",
       "      <td>22.52</td>\n",
       "      <td>22.32</td>\n",
       "      <td>16.45</td>\n",
       "      <td>14.38</td>\n",
       "      <td>12.69</td>\n",
       "      <td>11.56</td>\n",
       "      <td>0.00</td>\n",
       "      <td>...</td>\n",
       "      <td>16.51</td>\n",
       "      <td>14.41</td>\n",
       "      <td>12.71</td>\n",
       "      <td>11.57</td>\n",
       "      <td>11.16</td>\n",
       "      <td>25.44</td>\n",
       "      <td>24.12</td>\n",
       "      <td>23.14</td>\n",
       "      <td>22.53</td>\n",
       "      <td>22.32</td>\n",
       "    </tr>\n",
       "  </tbody>\n",
       "</table>\n",
       "<p>10 rows × 25 columns</p>\n",
       "</div>"
      ],
      "text/plain": [
       "      0      1      2      3      4      5      6      7      8      9   ...  \\\n",
       "0   0.00  44.64  44.75  45.05  45.56  46.26  33.48  33.62  34.03  34.70  ...   \n",
       "1  44.75   0.00  44.64  44.75  45.05  45.56  33.62  33.48  33.62  34.03  ...   \n",
       "2  45.05  44.75   0.00  44.64  44.75  45.05  34.03  33.62  33.48  33.62  ...   \n",
       "3  45.56  45.05  44.75   0.00  44.64  44.75  34.70  34.03  33.62  33.48  ...   \n",
       "4  46.26  45.56  45.05  44.75   0.00  44.64  35.62  34.70  34.03  33.62  ...   \n",
       "5  22.32  22.52  23.12  24.08  25.37   0.00  11.16  11.56  12.69  14.38  ...   \n",
       "6  22.52  22.32  22.52  23.12  24.08  11.56   0.00  11.16  11.56  12.69  ...   \n",
       "7  23.12  22.52  22.32  22.52  23.12  12.69  11.56   0.00  11.16  11.56  ...   \n",
       "8  24.08  23.12  22.52  22.32  22.52  14.38  12.69  11.56   0.00  11.16  ...   \n",
       "9  25.37  24.08  23.12  22.52  22.32  16.45  14.38  12.69  11.56   0.00  ...   \n",
       "\n",
       "      15     16     17     18     19     20     21     22     23     24  \n",
       "0  25.44  11.16  11.57  12.73  14.45  16.56   3.07   6.14   9.21  12.27  \n",
       "1  24.12  11.57  11.16  11.57  12.73  14.45   3.07   3.07   6.14   9.21  \n",
       "2  23.14  12.73  11.57  11.16  11.57  12.73   6.14   3.07   3.07   6.14  \n",
       "3  22.53  14.45  12.73  11.57  11.16  11.57   9.21   6.14   3.07   3.07  \n",
       "4  22.32  16.56  14.45  12.73  11.57  11.16  12.27   9.21   6.14   3.07  \n",
       "5  11.16  11.57  12.71  14.41  16.51  22.32  22.53  23.14  24.12  25.44  \n",
       "6  11.57  11.16  11.57  12.71  14.41  22.53  22.32  22.53  23.14  24.12  \n",
       "7  12.71  11.57  11.16  11.57  12.71  23.14  22.53  22.32  22.53  23.14  \n",
       "8  14.41  12.71  11.57  11.16  11.57  24.12  23.14  22.53  22.32  22.53  \n",
       "9  16.51  14.41  12.71  11.57  11.16  25.44  24.12  23.14  22.53  22.32  \n",
       "\n",
       "[10 rows x 25 columns]"
      ]
     },
     "execution_count": 4,
     "metadata": {},
     "output_type": "execute_result"
    }
   ],
   "source": [
    "matrix = pd.DataFrame(processedData)\n",
    "matrix.head(10)"
   ]
  },
  {
   "cell_type": "markdown",
   "metadata": {},
   "source": [
    "## Check if metrix is symmetric or not in numpy\n",
    "returns True if symmetric otherwise False"
   ]
  },
  {
   "cell_type": "code",
   "execution_count": 5,
   "metadata": {},
   "outputs": [
    {
     "data": {
      "text/plain": [
       "False"
      ]
     },
     "execution_count": 5,
     "metadata": {},
     "output_type": "execute_result"
    }
   ],
   "source": [
    "np.allclose(matrix, matrix.T)"
   ]
  },
  {
   "cell_type": "markdown",
   "metadata": {},
   "source": [
    "## Now running floyd-warshall alogorithm"
   ]
  },
  {
   "cell_type": "code",
   "execution_count": 6,
   "metadata": {},
   "outputs": [],
   "source": [
    "vertex = 25\n",
    "floydWarshal = FloydWarshall.FloydWarshall(vertex, processedData)\n",
    "\n",
    "fwOutput = floydWarshal.floydWarshall()\n",
    "#floydWarshal.printMatrix()"
   ]
  },
  {
   "cell_type": "markdown",
   "metadata": {},
   "source": [
    "## Compare result with input to see if weights have changed or not\n",
    "return False if weights are changed otherwise True"
   ]
  },
  {
   "cell_type": "code",
   "execution_count": 7,
   "metadata": {},
   "outputs": [
    {
     "data": {
      "text/plain": [
       "True"
      ]
     },
     "execution_count": 7,
     "metadata": {},
     "output_type": "execute_result"
    }
   ],
   "source": [
    "fwOutput == processedData"
   ]
  }
 ],
 "metadata": {
  "kernelspec": {
   "display_name": "Python 3",
   "language": "python",
   "name": "python3"
  },
  "language_info": {
   "codemirror_mode": {
    "name": "ipython",
    "version": 3
   },
   "file_extension": ".py",
   "mimetype": "text/x-python",
   "name": "python",
   "nbconvert_exporter": "python",
   "pygments_lexer": "ipython3",
   "version": "3.7.3"
  },
  "pycharm": {
   "stem_cell": {
    "cell_type": "raw",
    "metadata": {
     "collapsed": false
    },
    "source": []
   }
  }
 },
 "nbformat": 4,
 "nbformat_minor": 1
}
